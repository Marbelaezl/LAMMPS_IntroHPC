{
  "cells": [
    {
      "cell_type": "code",
      "execution_count": 25,
      "metadata": {
        "id": "uYT2d4Bywn1W"
      },
      "outputs": [],
      "source": [
        "import numpy as np\n",
        "import matplotlib.pyplot as plt\n",
        "import seaborn as sns\n",
        "import scipy as sci\n",
        "from scipy.special import factorial "
      ]
    },
    {
      "cell_type": "markdown",
      "metadata": {
        "id": "QX9Wem6Rw5NC"
      },
      "source": [
        "# Factoriales"
      ]
    },
    {
      "cell_type": "code",
      "execution_count": 31,
      "metadata": {
        "id": "Gbvsm4rI6lzu"
      },
      "outputs": [],
      "source": [
        "def normalize(n):\n",
        "    expo=np.floor(np.log10(n))\n",
        "    valor=(n/(10**expo))\n",
        "    return valor,expo\n",
        "normalize=np.vectorize(normalize)\n",
        "\n",
        "\n",
        "def fac(N):\n",
        "  ran = np.arange(1,2*N,1,dtype=np.float128)\n",
        "  s_up = np.zeros((N,2),dtype=np.float128)\n",
        "  s_dw = np.zeros((N,2),dtype=np.float128)\n",
        "  \n",
        "  n, expo=normalize(ran)  \n",
        "\n",
        "  ex=np.zeros(np.size(n),dtype=np.float128)\n",
        "  x=np.zeros(np.size(n),dtype=np.float128)\n",
        "\n",
        "  for ii in range(np.size(n)):\n",
        "    if ii == 0:\n",
        "      x[ii]=1\n",
        "    else:\n",
        "      ex[ii]=expo[ii]+ex[ii-1]\n",
        "      x[ii]=n[ii]*x[ii-1]\n",
        "      if x[ii]>=10:\n",
        "        ex[ii]=ex[ii]+(np.floor(np.log10(x[ii])))\n",
        "        x[ii]=x[ii]/10**(np.floor(np.log10(x[ii])))\n",
        "\n",
        "  s_dw[:, 0] =  x[:N:1]\n",
        "  s_dw[:, 1] =  ex[:N:1]\n",
        "  s_up[:, 0] =  np.concatenate((x[0], x[1:2*N-1:2]), axis=None)\n",
        "  s_up[:, 1] =  np.concatenate((ex[0], ex[1:2*N-1:2]), axis=None)\n",
        "  return s_dw, s_up"
      ]
    },
    {
      "cell_type": "markdown",
      "metadata": {
        "id": "4qfYADo-yVKL"
      },
      "source": [
        "# v"
      ]
    },
    {
      "cell_type": "code",
      "execution_count": 32,
      "metadata": {
        "id": "UmodH_NZyZpt"
      },
      "outputs": [],
      "source": [
        "def pot(v,N):\n",
        "  p_up = np.zeros((N,2),dtype=np.float128)\n",
        "  p_dw = np.zeros((N,2),dtype=np.float128)\n",
        "\n",
        "  ran = np.arange(1,2*N,1,dtype=np.float128)\n",
        "  ex=np.zeros(np.size(ran),dtype=np.float128)\n",
        "  x=np.zeros(np.size(ran),dtype=np.float128)\n",
        "  c = 2-v\n",
        "\n",
        "  for ii in range(2*N-1):\n",
        "    if ii == 0:\n",
        "      x[ii]=c\n",
        "      ex[ii] = 0\n",
        "    else:\n",
        "      x[ii] = x[ii-1]*c\n",
        "      ex[ii] = ex[ii-1]\n",
        "      if x[ii]>10:\n",
        "        x[ii] = x[ii]/10\n",
        "        ex[ii] = ex[ii]+1\n",
        "\n",
        "  p_dw[:, 0] =  x[::2]\n",
        "  p_dw[:, 1] =  ex[::2]\n",
        "\n",
        "  ran = np.arange(1,N+1,1,dtype=np.float128)\n",
        "  ex=np.zeros(np.size(ran),dtype=np.float128)\n",
        "  x=np.zeros(np.size(ran),dtype=np.float128)\n",
        "  c = 1-v\n",
        "\n",
        "  for ii in range(N):\n",
        "    if ii == 0:\n",
        "      x[ii]= 1\n",
        "      ex[ii] = 0\n",
        "      continue\n",
        "    if ii == 1:\n",
        "      x[ii]=c*10\n",
        "      ex[ii] = -1\n",
        "    else:\n",
        "      x[ii] = x[ii-1]*c\n",
        "      ex[ii] = ex[ii-1]\n",
        "      if x[ii]<1:\n",
        "        x[ii] = x[ii]*10\n",
        "        ex[ii] = ex[ii]-1\n",
        "\n",
        "  p_up[:, 0] =  x[:N]\n",
        "  p_up[:, 1] =  ex[:N]\n",
        "\n",
        "  return p_dw, p_up"
      ]
    },
    {
      "cell_type": "markdown",
      "metadata": {
        "id": "rkdgz4UEyQ_8"
      },
      "source": [
        "# Calculo ns\n"
      ]
    },
    {
      "cell_type": "code",
      "execution_count": 28,
      "metadata": {
        "id": "4fyta0_73_oQ"
      },
      "outputs": [],
      "source": [
        "def calculate_ns(v,N, s_dw, s_up):\n",
        "  p_dw, p_up = pot(v, N)\n",
        "  ns_exp = (p_up[:,1]+s_up[:,1])-(p_dw[:,1]+2*s_dw[:,1])\n",
        "  ns_val = (p_up[:,0]*s_up[:,0])/(p_dw[:,0]*np.power(s_dw[:,0], 2))\n",
        "  ns = ns_val*np.power(10, ns_exp)*N\n",
        "  ns[0] = N/(2-v)\n",
        "\n",
        "  \"\"\" pruebas de valores\n",
        "  for i in range(np.size(ns_exp)):\n",
        "    #print(i+1, p_up[i,0], p_up[i,1], \"-----\", p_dw[i,0], p_dw[i,1]) #prueba para cada s de (1-v)^(s-1) y (2-v)^(2s-1) respectivamente\n",
        "    #print(i+1, s_up[i,0], s_up[i,1], \"-----\", s_dw[i,0], s_dw[i,1]) #prueba para cada s de (2s-2)! y s! respectivamente\n",
        "    #print(i+1, ns_val[i], ns_exp[i]) #prueba resultados en respresentacion ns_val * 10^(ns_exp) \n",
        "    print(i+1, ns[i]) #prueba resultados finales\n",
        "  \"\"\"\n",
        "  return ns"
      ]
    },
    {
      "cell_type": "markdown",
      "source": [
        "# main "
      ],
      "metadata": {
        "id": "xgnh1yNCdeWe"
      }
    },
    {
      "cell_type": "code",
      "execution_count": 45,
      "metadata": {
        "id": "-GoZfWRY1hvZ"
      },
      "outputs": [],
      "source": [
        "def guerrillas(v, N):\n",
        "  ns = np.zeros((np.size(v),N),dtype=np.float64)\n",
        "  s_fac, s_2fac = fac(N)\n",
        "\n",
        "  for i in range(np.size(v)):\n",
        "    ns[i] = calculate_ns(v[i], N, s_fac, s_2fac)\n",
        "  return ns "
      ]
    },
    {
      "cell_type": "code",
      "execution_count": 50,
      "metadata": {
        "colab": {
          "base_uri": "https://localhost:8080/"
        },
        "id": "NRdsttzO2yD3",
        "outputId": "98d5e2d4-58ce-472a-b18f-e48e4ddc1505"
      },
      "outputs": [
        {
          "output_type": "stream",
          "name": "stdout",
          "text": [
            "[[5.02512563e+03 6.28124842e+02 2.09369660e+02 ... 2.20378594e-07\n",
            "  2.20317933e-07 2.20257295e-07]\n",
            " [5.05050505e+03 6.31248718e+02 2.10394771e+02 ... 1.02799558e-07\n",
            "  1.02763371e-07 1.02727199e-07]\n",
            " [5.07614213e+03 6.34370619e+02 2.11407835e+02 ... 2.81985766e-08\n",
            "  2.81849889e-08 2.81714085e-08]\n",
            " [5.10204082e+03 6.37489481e+02 2.12407990e+02 ... 4.47467762e-09\n",
            "  4.47169570e-09 4.46871588e-09]\n",
            " [5.12820513e+03 6.40604191e+02 2.13394339e+02 ... 4.03849647e-10\n",
            "  4.03483231e-10 4.03117157e-10]]\n"
          ]
        }
      ],
      "source": [
        "v = np.array([0.01, 0.02, 0.03,0.04, 0.05])\n",
        "N = 10000\n",
        "ns = guerrillas(v,N)\n",
        "print(ns)"
      ]
    }
  ],
  "metadata": {
    "colab": {
      "provenance": []
    },
    "kernelspec": {
      "display_name": "Python 3",
      "name": "python3"
    },
    "language_info": {
      "name": "python"
    }
  },
  "nbformat": 4,
  "nbformat_minor": 0
}